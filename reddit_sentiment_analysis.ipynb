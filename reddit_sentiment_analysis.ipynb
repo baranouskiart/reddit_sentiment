{
  "nbformat": 4,
  "nbformat_minor": 0,
  "metadata": {
    "colab": {
      "provenance": [],
      "authorship_tag": "ABX9TyOjQ40QS0F0sEuptnMPDFBn",
      "include_colab_link": true
    },
    "kernelspec": {
      "name": "python3",
      "display_name": "Python 3"
    },
    "language_info": {
      "name": "python"
    }
  },
  "cells": [
    {
      "cell_type": "markdown",
      "metadata": {
        "id": "view-in-github",
        "colab_type": "text"
      },
      "source": [
        "<a href=\"https://colab.research.google.com/github/baranouskiart/reddit_sentiment/blob/main/reddit_sentiment_analysis.ipynb\" target=\"_parent\"><img src=\"https://colab.research.google.com/assets/colab-badge.svg\" alt=\"Open In Colab\"/></a>"
      ]
    },
    {
      "cell_type": "code",
      "execution_count": 66,
      "metadata": {
        "id": "HF8pvGXOKDgM"
      },
      "outputs": [],
      "source": [
        "from pprint import pprint\n",
        "import pandas as pd\n",
        "import numpy as np\n",
        "import matplotlib.pyplot as plt\n",
        "import seaborn as sns"
      ]
    },
    {
      "cell_type": "code",
      "source": [
        "!pip install praw "
      ],
      "metadata": {
        "colab": {
          "base_uri": "https://localhost:8080/"
        },
        "id": "nSvzX_ipKgFL",
        "outputId": "4da49dd3-b818-4ab7-f86e-d5e59a3c0df4"
      },
      "execution_count": 67,
      "outputs": [
        {
          "output_type": "stream",
          "name": "stdout",
          "text": [
            "Looking in indexes: https://pypi.org/simple, https://us-python.pkg.dev/colab-wheels/public/simple/\n",
            "Requirement already satisfied: praw in /usr/local/lib/python3.10/dist-packages (7.7.0)\n",
            "Requirement already satisfied: prawcore<3,>=2.1 in /usr/local/lib/python3.10/dist-packages (from praw) (2.3.0)\n",
            "Requirement already satisfied: update-checker>=0.18 in /usr/local/lib/python3.10/dist-packages (from praw) (0.18.0)\n",
            "Requirement already satisfied: websocket-client>=0.54.0 in /usr/local/lib/python3.10/dist-packages (from praw) (1.5.1)\n",
            "Requirement already satisfied: requests<3.0,>=2.6.0 in /usr/local/lib/python3.10/dist-packages (from prawcore<3,>=2.1->praw) (2.27.1)\n",
            "Requirement already satisfied: idna<4,>=2.5 in /usr/local/lib/python3.10/dist-packages (from requests<3.0,>=2.6.0->prawcore<3,>=2.1->praw) (3.4)\n",
            "Requirement already satisfied: charset-normalizer~=2.0.0 in /usr/local/lib/python3.10/dist-packages (from requests<3.0,>=2.6.0->prawcore<3,>=2.1->praw) (2.0.12)\n",
            "Requirement already satisfied: urllib3<1.27,>=1.21.1 in /usr/local/lib/python3.10/dist-packages (from requests<3.0,>=2.6.0->prawcore<3,>=2.1->praw) (1.26.15)\n",
            "Requirement already satisfied: certifi>=2017.4.17 in /usr/local/lib/python3.10/dist-packages (from requests<3.0,>=2.6.0->prawcore<3,>=2.1->praw) (2022.12.7)\n"
          ]
        }
      ]
    },
    {
      "cell_type": "code",
      "source": [
        "# !pip install asyncpraw\n"
      ],
      "metadata": {
        "id": "IcRgTXK3dtBG"
      },
      "execution_count": 68,
      "outputs": []
    },
    {
      "cell_type": "code",
      "source": [
        "# In a nutshell this secret key should not be visible due to the safety reasons, \n",
        "# but reddit approach to get API is very basic and my account info is not private.\n",
        "\n",
        "import praw #will change to asynchronys version\n",
        "\n",
        "user_agent = \"Scraper 1.0 by /u/Any_Extension_2610\"\n",
        "reddit = praw.Reddit(\n",
        "    client_id=\"QTNd9EfHR4xEstUGaT49kA\",\n",
        "    client_secret=\"2YVT0lSK-LGY73MkTDn5Z-0ybA8THQ\",\n",
        "    redirect_url='http://localhost:8080',\n",
        "    user_agent=user_agent\n",
        ")"
      ],
      "metadata": {
        "id": "NxFT-4sFKF-g"
      },
      "execution_count": 69,
      "outputs": []
    },
    {
      "cell_type": "code",
      "source": [
        "# import asyncpraw\n",
        "\n",
        "# reddit = asyncpraw.Reddit(\n",
        "#     client_id=\"QTNd9EfHR4xEstUGaT49kA\",\n",
        "#     client_secret=\"2YVT0lSK-LGY73MkTDn5Z-0ybA8THQ\",\n",
        "#     user_agent=\"Comment Extraction (by u/Any_Extension_2610)\",\n",
        "#     username=\"Any_Extension_2610\",\n",
        "# )"
      ],
      "metadata": {
        "id": "OPlpmwFQd4g9"
      },
      "execution_count": 70,
      "outputs": []
    },
    {
      "cell_type": "code",
      "source": [
        "posts_df = [] #creating the empty list to add the future data from Reddit"
      ],
      "metadata": {
        "id": "UrnktAGTX5v1"
      },
      "execution_count": null,
      "outputs": []
    },
    {
      "cell_type": "code",
      "source": [
        "posts = reddit.subreddit(\"Alternatives+Entrepreneur+sales+productivity\").top(time_filter=\"all\", limit=10000)\n"
      ],
      "metadata": {
        "id": "C3urjp5mYnrf"
      },
      "execution_count": 71,
      "outputs": []
    },
    {
      "cell_type": "markdown",
      "source": [
        "# Introduction"
      ],
      "metadata": {
        "id": "FzqWDqNPLIEb"
      }
    },
    {
      "cell_type": "markdown",
      "source": [
        "\n",
        "*   The purpose of this project is to perform sentiment analysis on Reddit headlines and comments to identify the most popular CRM and ERP system alternatives.\n",
        "\n",
        "*   The goal is to understand and visualize the impact of consumers desicion after search verification in the various project management systems abd tools using Reddit data.\n",
        "\n",
        "*   This project is a junior classification task. So it's based on previous knowledge about reputation management I have, not copypasting the hole code.\n"
      ],
      "metadata": {
        "id": "mcECdgO0LAyf"
      }
    },
    {
      "cell_type": "code",
      "source": [
        "# for submission in reddit.subreddit(\"Alternatives+Entrepreneur+sales+Notion\").top(time_filter=\"all\", limit=3000):\n",
        "#   print(submission)"
      ],
      "metadata": {
        "id": "Ap1seXR5KdyV"
      },
      "execution_count": 73,
      "outputs": []
    },
    {
      "cell_type": "code",
      "source": [
        "for post in posts:\n",
        "    if \"crm\" in post.title.lower() or \"erp\" in post.title.lower() or \"crm\" in post.selftext.lower() or \"erp\" in post.selftext.lower():\n",
        "        posts_df.append({\n",
        "            'post_id' : post.id,\n",
        "            'subreddit' : post.subreddit,\n",
        "            'created_utc' : post.created_utc,\n",
        "            'selftext' : post.selftext,\n",
        "            'post_url' : post.url,\n",
        "            'post_title': post.title,\n",
        "            'link_flair_text' : post.link_flair_text,\n",
        "            'score' : post.score,\n",
        "            'num_comments' : post.num_comments,\n",
        "            'upvote_ratio' : post.upvote_ratio\n",
        "        })\n"
      ],
      "metadata": {
        "colab": {
          "base_uri": "https://localhost:8080/"
        },
        "id": "N78Jkg4UP_Fe",
        "outputId": "e11e7378-6021-48e7-bb40-faeaee99fadf"
      },
      "execution_count": 74,
      "outputs": [
        {
          "output_type": "stream",
          "name": "stderr",
          "text": [
            "WARNING:praw:It appears that you are using PRAW in an asynchronous environment.\n",
            "It is strongly recommended to use Async PRAW: https://asyncpraw.readthedocs.io.\n",
            "See https://praw.readthedocs.io/en/latest/getting_started/multiple_instances.html#discord-bots-and-asynchronous-environments for more info.\n",
            "\n",
            "WARNING:praw:It appears that you are using PRAW in an asynchronous environment.\n",
            "It is strongly recommended to use Async PRAW: https://asyncpraw.readthedocs.io.\n",
            "See https://praw.readthedocs.io/en/latest/getting_started/multiple_instances.html#discord-bots-and-asynchronous-environments for more info.\n",
            "\n",
            "WARNING:praw:It appears that you are using PRAW in an asynchronous environment.\n",
            "It is strongly recommended to use Async PRAW: https://asyncpraw.readthedocs.io.\n",
            "See https://praw.readthedocs.io/en/latest/getting_started/multiple_instances.html#discord-bots-and-asynchronous-environments for more info.\n",
            "\n",
            "WARNING:praw:It appears that you are using PRAW in an asynchronous environment.\n",
            "It is strongly recommended to use Async PRAW: https://asyncpraw.readthedocs.io.\n",
            "See https://praw.readthedocs.io/en/latest/getting_started/multiple_instances.html#discord-bots-and-asynchronous-environments for more info.\n",
            "\n",
            "WARNING:praw:It appears that you are using PRAW in an asynchronous environment.\n",
            "It is strongly recommended to use Async PRAW: https://asyncpraw.readthedocs.io.\n",
            "See https://praw.readthedocs.io/en/latest/getting_started/multiple_instances.html#discord-bots-and-asynchronous-environments for more info.\n",
            "\n",
            "WARNING:praw:It appears that you are using PRAW in an asynchronous environment.\n",
            "It is strongly recommended to use Async PRAW: https://asyncpraw.readthedocs.io.\n",
            "See https://praw.readthedocs.io/en/latest/getting_started/multiple_instances.html#discord-bots-and-asynchronous-environments for more info.\n",
            "\n",
            "WARNING:praw:It appears that you are using PRAW in an asynchronous environment.\n",
            "It is strongly recommended to use Async PRAW: https://asyncpraw.readthedocs.io.\n",
            "See https://praw.readthedocs.io/en/latest/getting_started/multiple_instances.html#discord-bots-and-asynchronous-environments for more info.\n",
            "\n",
            "WARNING:praw:It appears that you are using PRAW in an asynchronous environment.\n",
            "It is strongly recommended to use Async PRAW: https://asyncpraw.readthedocs.io.\n",
            "See https://praw.readthedocs.io/en/latest/getting_started/multiple_instances.html#discord-bots-and-asynchronous-environments for more info.\n",
            "\n",
            "WARNING:praw:It appears that you are using PRAW in an asynchronous environment.\n",
            "It is strongly recommended to use Async PRAW: https://asyncpraw.readthedocs.io.\n",
            "See https://praw.readthedocs.io/en/latest/getting_started/multiple_instances.html#discord-bots-and-asynchronous-environments for more info.\n",
            "\n",
            "WARNING:praw:It appears that you are using PRAW in an asynchronous environment.\n",
            "It is strongly recommended to use Async PRAW: https://asyncpraw.readthedocs.io.\n",
            "See https://praw.readthedocs.io/en/latest/getting_started/multiple_instances.html#discord-bots-and-asynchronous-environments for more info.\n",
            "\n",
            "WARNING:praw:It appears that you are using PRAW in an asynchronous environment.\n",
            "It is strongly recommended to use Async PRAW: https://asyncpraw.readthedocs.io.\n",
            "See https://praw.readthedocs.io/en/latest/getting_started/multiple_instances.html#discord-bots-and-asynchronous-environments for more info.\n",
            "\n",
            "WARNING:praw:It appears that you are using PRAW in an asynchronous environment.\n",
            "It is strongly recommended to use Async PRAW: https://asyncpraw.readthedocs.io.\n",
            "See https://praw.readthedocs.io/en/latest/getting_started/multiple_instances.html#discord-bots-and-asynchronous-environments for more info.\n",
            "\n",
            "WARNING:praw:It appears that you are using PRAW in an asynchronous environment.\n",
            "It is strongly recommended to use Async PRAW: https://asyncpraw.readthedocs.io.\n",
            "See https://praw.readthedocs.io/en/latest/getting_started/multiple_instances.html#discord-bots-and-asynchronous-environments for more info.\n",
            "\n",
            "WARNING:praw:It appears that you are using PRAW in an asynchronous environment.\n",
            "It is strongly recommended to use Async PRAW: https://asyncpraw.readthedocs.io.\n",
            "See https://praw.readthedocs.io/en/latest/getting_started/multiple_instances.html#discord-bots-and-asynchronous-environments for more info.\n",
            "\n",
            "WARNING:praw:It appears that you are using PRAW in an asynchronous environment.\n",
            "It is strongly recommended to use Async PRAW: https://asyncpraw.readthedocs.io.\n",
            "See https://praw.readthedocs.io/en/latest/getting_started/multiple_instances.html#discord-bots-and-asynchronous-environments for more info.\n",
            "\n",
            "WARNING:praw:It appears that you are using PRAW in an asynchronous environment.\n",
            "It is strongly recommended to use Async PRAW: https://asyncpraw.readthedocs.io.\n",
            "See https://praw.readthedocs.io/en/latest/getting_started/multiple_instances.html#discord-bots-and-asynchronous-environments for more info.\n",
            "\n",
            "WARNING:praw:It appears that you are using PRAW in an asynchronous environment.\n",
            "It is strongly recommended to use Async PRAW: https://asyncpraw.readthedocs.io.\n",
            "See https://praw.readthedocs.io/en/latest/getting_started/multiple_instances.html#discord-bots-and-asynchronous-environments for more info.\n",
            "\n",
            "WARNING:praw:It appears that you are using PRAW in an asynchronous environment.\n",
            "It is strongly recommended to use Async PRAW: https://asyncpraw.readthedocs.io.\n",
            "See https://praw.readthedocs.io/en/latest/getting_started/multiple_instances.html#discord-bots-and-asynchronous-environments for more info.\n",
            "\n",
            "WARNING:praw:It appears that you are using PRAW in an asynchronous environment.\n",
            "It is strongly recommended to use Async PRAW: https://asyncpraw.readthedocs.io.\n",
            "See https://praw.readthedocs.io/en/latest/getting_started/multiple_instances.html#discord-bots-and-asynchronous-environments for more info.\n",
            "\n",
            "WARNING:praw:It appears that you are using PRAW in an asynchronous environment.\n",
            "It is strongly recommended to use Async PRAW: https://asyncpraw.readthedocs.io.\n",
            "See https://praw.readthedocs.io/en/latest/getting_started/multiple_instances.html#discord-bots-and-asynchronous-environments for more info.\n",
            "\n",
            "WARNING:praw:It appears that you are using PRAW in an asynchronous environment.\n",
            "It is strongly recommended to use Async PRAW: https://asyncpraw.readthedocs.io.\n",
            "See https://praw.readthedocs.io/en/latest/getting_started/multiple_instances.html#discord-bots-and-asynchronous-environments for more info.\n",
            "\n",
            "WARNING:praw:It appears that you are using PRAW in an asynchronous environment.\n",
            "It is strongly recommended to use Async PRAW: https://asyncpraw.readthedocs.io.\n",
            "See https://praw.readthedocs.io/en/latest/getting_started/multiple_instances.html#discord-bots-and-asynchronous-environments for more info.\n",
            "\n",
            "WARNING:praw:It appears that you are using PRAW in an asynchronous environment.\n",
            "It is strongly recommended to use Async PRAW: https://asyncpraw.readthedocs.io.\n",
            "See https://praw.readthedocs.io/en/latest/getting_started/multiple_instances.html#discord-bots-and-asynchronous-environments for more info.\n",
            "\n",
            "WARNING:praw:It appears that you are using PRAW in an asynchronous environment.\n",
            "It is strongly recommended to use Async PRAW: https://asyncpraw.readthedocs.io.\n",
            "See https://praw.readthedocs.io/en/latest/getting_started/multiple_instances.html#discord-bots-and-asynchronous-environments for more info.\n",
            "\n",
            "WARNING:praw:It appears that you are using PRAW in an asynchronous environment.\n",
            "It is strongly recommended to use Async PRAW: https://asyncpraw.readthedocs.io.\n",
            "See https://praw.readthedocs.io/en/latest/getting_started/multiple_instances.html#discord-bots-and-asynchronous-environments for more info.\n",
            "\n",
            "WARNING:praw:It appears that you are using PRAW in an asynchronous environment.\n",
            "It is strongly recommended to use Async PRAW: https://asyncpraw.readthedocs.io.\n",
            "See https://praw.readthedocs.io/en/latest/getting_started/multiple_instances.html#discord-bots-and-asynchronous-environments for more info.\n",
            "\n",
            "WARNING:praw:It appears that you are using PRAW in an asynchronous environment.\n",
            "It is strongly recommended to use Async PRAW: https://asyncpraw.readthedocs.io.\n",
            "See https://praw.readthedocs.io/en/latest/getting_started/multiple_instances.html#discord-bots-and-asynchronous-environments for more info.\n",
            "\n",
            "WARNING:praw:It appears that you are using PRAW in an asynchronous environment.\n",
            "It is strongly recommended to use Async PRAW: https://asyncpraw.readthedocs.io.\n",
            "See https://praw.readthedocs.io/en/latest/getting_started/multiple_instances.html#discord-bots-and-asynchronous-environments for more info.\n",
            "\n",
            "WARNING:praw:It appears that you are using PRAW in an asynchronous environment.\n",
            "It is strongly recommended to use Async PRAW: https://asyncpraw.readthedocs.io.\n",
            "See https://praw.readthedocs.io/en/latest/getting_started/multiple_instances.html#discord-bots-and-asynchronous-environments for more info.\n",
            "\n",
            "WARNING:praw:It appears that you are using PRAW in an asynchronous environment.\n",
            "It is strongly recommended to use Async PRAW: https://asyncpraw.readthedocs.io.\n",
            "See https://praw.readthedocs.io/en/latest/getting_started/multiple_instances.html#discord-bots-and-asynchronous-environments for more info.\n",
            "\n",
            "WARNING:praw:It appears that you are using PRAW in an asynchronous environment.\n",
            "It is strongly recommended to use Async PRAW: https://asyncpraw.readthedocs.io.\n",
            "See https://praw.readthedocs.io/en/latest/getting_started/multiple_instances.html#discord-bots-and-asynchronous-environments for more info.\n",
            "\n",
            "WARNING:praw:It appears that you are using PRAW in an asynchronous environment.\n",
            "It is strongly recommended to use Async PRAW: https://asyncpraw.readthedocs.io.\n",
            "See https://praw.readthedocs.io/en/latest/getting_started/multiple_instances.html#discord-bots-and-asynchronous-environments for more info.\n",
            "\n"
          ]
        }
      ]
    },
    {
      "cell_type": "code",
      "source": [
        "posts_df = pd.DataFrame(posts_df)"
      ],
      "metadata": {
        "id": "cvenRM4gbADk"
      },
      "execution_count": 75,
      "outputs": []
    },
    {
      "cell_type": "markdown",
      "source": [
        "## Methodology\n",
        "\n",
        "\n",
        "*   The project will use sentiment analysis techniques to determine the overall sentiment of the comments and headlines related to various CRM and ERP systems and their alternatives.\n",
        "*   The sentiment analysis will be performed using machine learning algorithms and libraries such as NLTK, Scikit-learn, and TextBlob.\n",
        "\n",
        "* The project will also involve data cleaning and preprocessing to prepare the data for analysis.\n"
      ],
      "metadata": {
        "id": "C2vg7cYZcbJr"
      }
    },
    {
      "cell_type": "code",
      "source": [
        "posts_df"
      ],
      "metadata": {
        "colab": {
          "base_uri": "https://localhost:8080/",
          "height": 1000
        },
        "id": "bHz_c4ncZLt9",
        "outputId": "b9b383bf-e7a6-4133-d0ef-8371d3a6484e"
      },
      "execution_count": 83,
      "outputs": [
        {
          "output_type": "execute_result",
          "data": {
            "text/plain": [
              "    post_id     subreddit   created_utc  \\\n",
              "0    eytom3  Entrepreneur  1.580838e+09   \n",
              "1    4wbdcz  Entrepreneur  1.470416e+09   \n",
              "2    g2ukmw  Entrepreneur  1.587096e+09   \n",
              "3    elyqf5  Entrepreneur  1.578517e+09   \n",
              "4    5vtkwo  Entrepreneur  1.487889e+09   \n",
              "..      ...           ...           ...   \n",
              "190  cli0s7         sales  1.564834e+09   \n",
              "191  3a10o4  Alternatives  1.434454e+09   \n",
              "192  cj9gki  Alternatives  1.564396e+09   \n",
              "193  9z29x9  Alternatives  1.542798e+09   \n",
              "194  dudjl9  Alternatives  1.573403e+09   \n",
              "\n",
              "                                              selftext  \\\n",
              "0    **TLDR -** Lil Nas X was a college dropout sle...   \n",
              "1    **Note: This is a chapter out of my [Growth Ha...   \n",
              "2    Lost my business overnight during this virus.....   \n",
              "3    This may be pretty controversial to lots of yo...   \n",
              "4    With the latest Amazon affiliate changes, we m...   \n",
              "..                                                 ...   \n",
              "190  Here is the most crucial wisdom I have learned...   \n",
              "191  Hello there.\\n\\nSo today I'm just gonna share ...   \n",
              "192                                                      \n",
              "193                                                      \n",
              "194  Hello,\\n\\nSince a lot of recent time , Reddit ...   \n",
              "\n",
              "                                              post_url  \\\n",
              "0    https://www.reddit.com/r/Entrepreneur/comments...   \n",
              "1    https://www.reddit.com/r/Entrepreneur/comments...   \n",
              "2    https://www.reddit.com/r/Entrepreneur/comments...   \n",
              "3    https://www.reddit.com/r/Entrepreneur/comments...   \n",
              "4    https://www.reddit.com/r/Entrepreneur/comments...   \n",
              "..                                                 ...   \n",
              "190  https://www.reddit.com/r/sales/comments/cli0s7...   \n",
              "191  https://www.reddit.com/r/Alternatives/comments...   \n",
              "192     https://www.salesmate.io/zoho-crm-alternative/   \n",
              "193  https://www.janbasktraining.com/blog/salesforc...   \n",
              "194  https://www.reddit.com/r/Alternatives/comments...   \n",
              "\n",
              "                                            post_title link_flair_text  score  \\\n",
              "0                    The marketing genius of Lil Nas X      Case Study   7453   \n",
              "1    SEO is Not Hard . A step-by-step SEO Tutorial ...            None   3955   \n",
              "2                                    Alright you Fucks            None   3289   \n",
              "3    Mental health matters. Toxic positivity is a t...            None   3115   \n",
              "4    For 11 years, I have been ranking ecommerce st...            None   2849   \n",
              "..                                                 ...             ...    ...   \n",
              "190  Nobody likes to be sold anything - yet everybo...          Advice    142   \n",
              "191                          Two alternatives to imgur            None      2   \n",
              "192  Best Zoho CRM Alternative Based on Features & ...            None      1   \n",
              "193  Top 20 Salesforce Alternatives: Is There Good ...            None      1   \n",
              "194         Tiblar - The new Social Media Alternative.            None      0   \n",
              "\n",
              "     num_comments  upvote_ratio  \n",
              "0             489          0.98  \n",
              "1             402          0.92  \n",
              "2             502          0.86  \n",
              "3             461          0.95  \n",
              "4             191          0.89  \n",
              "..            ...           ...  \n",
              "190            59          0.96  \n",
              "191             0          1.00  \n",
              "192             0          1.00  \n",
              "193             0          1.00  \n",
              "194             0          0.33  \n",
              "\n",
              "[195 rows x 10 columns]"
            ],
            "text/html": [
              "\n",
              "  <div id=\"df-07582222-dec5-44dd-b995-56fdef0ffc07\">\n",
              "    <div class=\"colab-df-container\">\n",
              "      <div>\n",
              "<style scoped>\n",
              "    .dataframe tbody tr th:only-of-type {\n",
              "        vertical-align: middle;\n",
              "    }\n",
              "\n",
              "    .dataframe tbody tr th {\n",
              "        vertical-align: top;\n",
              "    }\n",
              "\n",
              "    .dataframe thead th {\n",
              "        text-align: right;\n",
              "    }\n",
              "</style>\n",
              "<table border=\"1\" class=\"dataframe\">\n",
              "  <thead>\n",
              "    <tr style=\"text-align: right;\">\n",
              "      <th></th>\n",
              "      <th>post_id</th>\n",
              "      <th>subreddit</th>\n",
              "      <th>created_utc</th>\n",
              "      <th>selftext</th>\n",
              "      <th>post_url</th>\n",
              "      <th>post_title</th>\n",
              "      <th>link_flair_text</th>\n",
              "      <th>score</th>\n",
              "      <th>num_comments</th>\n",
              "      <th>upvote_ratio</th>\n",
              "    </tr>\n",
              "  </thead>\n",
              "  <tbody>\n",
              "    <tr>\n",
              "      <th>0</th>\n",
              "      <td>eytom3</td>\n",
              "      <td>Entrepreneur</td>\n",
              "      <td>1.580838e+09</td>\n",
              "      <td>**TLDR -** Lil Nas X was a college dropout sle...</td>\n",
              "      <td>https://www.reddit.com/r/Entrepreneur/comments...</td>\n",
              "      <td>The marketing genius of Lil Nas X</td>\n",
              "      <td>Case Study</td>\n",
              "      <td>7453</td>\n",
              "      <td>489</td>\n",
              "      <td>0.98</td>\n",
              "    </tr>\n",
              "    <tr>\n",
              "      <th>1</th>\n",
              "      <td>4wbdcz</td>\n",
              "      <td>Entrepreneur</td>\n",
              "      <td>1.470416e+09</td>\n",
              "      <td>**Note: This is a chapter out of my [Growth Ha...</td>\n",
              "      <td>https://www.reddit.com/r/Entrepreneur/comments...</td>\n",
              "      <td>SEO is Not Hard . A step-by-step SEO Tutorial ...</td>\n",
              "      <td>None</td>\n",
              "      <td>3955</td>\n",
              "      <td>402</td>\n",
              "      <td>0.92</td>\n",
              "    </tr>\n",
              "    <tr>\n",
              "      <th>2</th>\n",
              "      <td>g2ukmw</td>\n",
              "      <td>Entrepreneur</td>\n",
              "      <td>1.587096e+09</td>\n",
              "      <td>Lost my business overnight during this virus.....</td>\n",
              "      <td>https://www.reddit.com/r/Entrepreneur/comments...</td>\n",
              "      <td>Alright you Fucks</td>\n",
              "      <td>None</td>\n",
              "      <td>3289</td>\n",
              "      <td>502</td>\n",
              "      <td>0.86</td>\n",
              "    </tr>\n",
              "    <tr>\n",
              "      <th>3</th>\n",
              "      <td>elyqf5</td>\n",
              "      <td>Entrepreneur</td>\n",
              "      <td>1.578517e+09</td>\n",
              "      <td>This may be pretty controversial to lots of yo...</td>\n",
              "      <td>https://www.reddit.com/r/Entrepreneur/comments...</td>\n",
              "      <td>Mental health matters. Toxic positivity is a t...</td>\n",
              "      <td>None</td>\n",
              "      <td>3115</td>\n",
              "      <td>461</td>\n",
              "      <td>0.95</td>\n",
              "    </tr>\n",
              "    <tr>\n",
              "      <th>4</th>\n",
              "      <td>5vtkwo</td>\n",
              "      <td>Entrepreneur</td>\n",
              "      <td>1.487889e+09</td>\n",
              "      <td>With the latest Amazon affiliate changes, we m...</td>\n",
              "      <td>https://www.reddit.com/r/Entrepreneur/comments...</td>\n",
              "      <td>For 11 years, I have been ranking ecommerce st...</td>\n",
              "      <td>None</td>\n",
              "      <td>2849</td>\n",
              "      <td>191</td>\n",
              "      <td>0.89</td>\n",
              "    </tr>\n",
              "    <tr>\n",
              "      <th>...</th>\n",
              "      <td>...</td>\n",
              "      <td>...</td>\n",
              "      <td>...</td>\n",
              "      <td>...</td>\n",
              "      <td>...</td>\n",
              "      <td>...</td>\n",
              "      <td>...</td>\n",
              "      <td>...</td>\n",
              "      <td>...</td>\n",
              "      <td>...</td>\n",
              "    </tr>\n",
              "    <tr>\n",
              "      <th>190</th>\n",
              "      <td>cli0s7</td>\n",
              "      <td>sales</td>\n",
              "      <td>1.564834e+09</td>\n",
              "      <td>Here is the most crucial wisdom I have learned...</td>\n",
              "      <td>https://www.reddit.com/r/sales/comments/cli0s7...</td>\n",
              "      <td>Nobody likes to be sold anything - yet everybo...</td>\n",
              "      <td>Advice</td>\n",
              "      <td>142</td>\n",
              "      <td>59</td>\n",
              "      <td>0.96</td>\n",
              "    </tr>\n",
              "    <tr>\n",
              "      <th>191</th>\n",
              "      <td>3a10o4</td>\n",
              "      <td>Alternatives</td>\n",
              "      <td>1.434454e+09</td>\n",
              "      <td>Hello there.\\n\\nSo today I'm just gonna share ...</td>\n",
              "      <td>https://www.reddit.com/r/Alternatives/comments...</td>\n",
              "      <td>Two alternatives to imgur</td>\n",
              "      <td>None</td>\n",
              "      <td>2</td>\n",
              "      <td>0</td>\n",
              "      <td>1.00</td>\n",
              "    </tr>\n",
              "    <tr>\n",
              "      <th>192</th>\n",
              "      <td>cj9gki</td>\n",
              "      <td>Alternatives</td>\n",
              "      <td>1.564396e+09</td>\n",
              "      <td></td>\n",
              "      <td>https://www.salesmate.io/zoho-crm-alternative/</td>\n",
              "      <td>Best Zoho CRM Alternative Based on Features &amp; ...</td>\n",
              "      <td>None</td>\n",
              "      <td>1</td>\n",
              "      <td>0</td>\n",
              "      <td>1.00</td>\n",
              "    </tr>\n",
              "    <tr>\n",
              "      <th>193</th>\n",
              "      <td>9z29x9</td>\n",
              "      <td>Alternatives</td>\n",
              "      <td>1.542798e+09</td>\n",
              "      <td></td>\n",
              "      <td>https://www.janbasktraining.com/blog/salesforc...</td>\n",
              "      <td>Top 20 Salesforce Alternatives: Is There Good ...</td>\n",
              "      <td>None</td>\n",
              "      <td>1</td>\n",
              "      <td>0</td>\n",
              "      <td>1.00</td>\n",
              "    </tr>\n",
              "    <tr>\n",
              "      <th>194</th>\n",
              "      <td>dudjl9</td>\n",
              "      <td>Alternatives</td>\n",
              "      <td>1.573403e+09</td>\n",
              "      <td>Hello,\\n\\nSince a lot of recent time , Reddit ...</td>\n",
              "      <td>https://www.reddit.com/r/Alternatives/comments...</td>\n",
              "      <td>Tiblar - The new Social Media Alternative.</td>\n",
              "      <td>None</td>\n",
              "      <td>0</td>\n",
              "      <td>0</td>\n",
              "      <td>0.33</td>\n",
              "    </tr>\n",
              "  </tbody>\n",
              "</table>\n",
              "<p>195 rows × 10 columns</p>\n",
              "</div>\n",
              "      <button class=\"colab-df-convert\" onclick=\"convertToInteractive('df-07582222-dec5-44dd-b995-56fdef0ffc07')\"\n",
              "              title=\"Convert this dataframe to an interactive table.\"\n",
              "              style=\"display:none;\">\n",
              "        \n",
              "  <svg xmlns=\"http://www.w3.org/2000/svg\" height=\"24px\"viewBox=\"0 0 24 24\"\n",
              "       width=\"24px\">\n",
              "    <path d=\"M0 0h24v24H0V0z\" fill=\"none\"/>\n",
              "    <path d=\"M18.56 5.44l.94 2.06.94-2.06 2.06-.94-2.06-.94-.94-2.06-.94 2.06-2.06.94zm-11 1L8.5 8.5l.94-2.06 2.06-.94-2.06-.94L8.5 2.5l-.94 2.06-2.06.94zm10 10l.94 2.06.94-2.06 2.06-.94-2.06-.94-.94-2.06-.94 2.06-2.06.94z\"/><path d=\"M17.41 7.96l-1.37-1.37c-.4-.4-.92-.59-1.43-.59-.52 0-1.04.2-1.43.59L10.3 9.45l-7.72 7.72c-.78.78-.78 2.05 0 2.83L4 21.41c.39.39.9.59 1.41.59.51 0 1.02-.2 1.41-.59l7.78-7.78 2.81-2.81c.8-.78.8-2.07 0-2.86zM5.41 20L4 18.59l7.72-7.72 1.47 1.35L5.41 20z\"/>\n",
              "  </svg>\n",
              "      </button>\n",
              "      \n",
              "  <style>\n",
              "    .colab-df-container {\n",
              "      display:flex;\n",
              "      flex-wrap:wrap;\n",
              "      gap: 12px;\n",
              "    }\n",
              "\n",
              "    .colab-df-convert {\n",
              "      background-color: #E8F0FE;\n",
              "      border: none;\n",
              "      border-radius: 50%;\n",
              "      cursor: pointer;\n",
              "      display: none;\n",
              "      fill: #1967D2;\n",
              "      height: 32px;\n",
              "      padding: 0 0 0 0;\n",
              "      width: 32px;\n",
              "    }\n",
              "\n",
              "    .colab-df-convert:hover {\n",
              "      background-color: #E2EBFA;\n",
              "      box-shadow: 0px 1px 2px rgba(60, 64, 67, 0.3), 0px 1px 3px 1px rgba(60, 64, 67, 0.15);\n",
              "      fill: #174EA6;\n",
              "    }\n",
              "\n",
              "    [theme=dark] .colab-df-convert {\n",
              "      background-color: #3B4455;\n",
              "      fill: #D2E3FC;\n",
              "    }\n",
              "\n",
              "    [theme=dark] .colab-df-convert:hover {\n",
              "      background-color: #434B5C;\n",
              "      box-shadow: 0px 1px 3px 1px rgba(0, 0, 0, 0.15);\n",
              "      filter: drop-shadow(0px 1px 2px rgba(0, 0, 0, 0.3));\n",
              "      fill: #FFFFFF;\n",
              "    }\n",
              "  </style>\n",
              "\n",
              "      <script>\n",
              "        const buttonEl =\n",
              "          document.querySelector('#df-07582222-dec5-44dd-b995-56fdef0ffc07 button.colab-df-convert');\n",
              "        buttonEl.style.display =\n",
              "          google.colab.kernel.accessAllowed ? 'block' : 'none';\n",
              "\n",
              "        async function convertToInteractive(key) {\n",
              "          const element = document.querySelector('#df-07582222-dec5-44dd-b995-56fdef0ffc07');\n",
              "          const dataTable =\n",
              "            await google.colab.kernel.invokeFunction('convertToInteractive',\n",
              "                                                     [key], {});\n",
              "          if (!dataTable) return;\n",
              "\n",
              "          const docLinkHtml = 'Like what you see? Visit the ' +\n",
              "            '<a target=\"_blank\" href=https://colab.research.google.com/notebooks/data_table.ipynb>data table notebook</a>'\n",
              "            + ' to learn more about interactive tables.';\n",
              "          element.innerHTML = '';\n",
              "          dataTable['output_type'] = 'display_data';\n",
              "          await google.colab.output.renderOutput(dataTable, element);\n",
              "          const docLink = document.createElement('div');\n",
              "          docLink.innerHTML = docLinkHtml;\n",
              "          element.appendChild(docLink);\n",
              "        }\n",
              "      </script>\n",
              "    </div>\n",
              "  </div>\n",
              "  "
            ]
          },
          "metadata": {},
          "execution_count": 83
        }
      ]
    },
    {
      "cell_type": "code",
      "source": [
        "# get the basic statistics of the score column\n",
        "score_stats = posts_df['score'].describe()\n",
        "# get the basic statistics of the comments column\n",
        "comments_stats = posts_df['num_comments'].describe()"
      ],
      "metadata": {
        "id": "_iUZisjEbGQ-"
      },
      "execution_count": 77,
      "outputs": []
    },
    {
      "cell_type": "code",
      "source": [
        "# print the statistics\n",
        "print(\"Score statistics:\")\n",
        "print(score_stats)\n",
        "print(\"Comments statistics:\")\n",
        "print(comments_stats)"
      ],
      "metadata": {
        "colab": {
          "base_uri": "https://localhost:8080/"
        },
        "id": "o2CF1OMVcILO",
        "outputId": "253f0753-65bd-4c24-c0af-4f025f3f41d7"
      },
      "execution_count": 78,
      "outputs": [
        {
          "output_type": "stream",
          "name": "stdout",
          "text": [
            "Score statistics:\n",
            "count     195.000000\n",
            "mean      632.851282\n",
            "std       751.199915\n",
            "min         0.000000\n",
            "25%       206.000000\n",
            "50%       459.000000\n",
            "75%       797.500000\n",
            "max      7453.000000\n",
            "Name: score, dtype: float64\n",
            "Comments statistics:\n",
            "count    195.000000\n",
            "mean     138.123077\n",
            "std      117.410309\n",
            "min        0.000000\n",
            "25%       58.500000\n",
            "50%      105.000000\n",
            "75%      188.000000\n",
            "max      767.000000\n",
            "Name: num_comments, dtype: float64\n"
          ]
        }
      ]
    },
    {
      "cell_type": "code",
      "source": [
        "# create a boxplot of the comments column\n",
        "plt.boxplot(posts_df['num_comments'])\n",
        "plt.title('Comments distribution')\n",
        "plt.ylabel('Number of comments')\n",
        "plt.show()"
      ],
      "metadata": {
        "colab": {
          "base_uri": "https://localhost:8080/",
          "height": 452
        },
        "id": "Gy2MsTo3bG9Y",
        "outputId": "7762b735-2fe2-4670-b0f2-47be33f37952"
      },
      "execution_count": 79,
      "outputs": [
        {
          "output_type": "display_data",
          "data": {
            "text/plain": [
              "<Figure size 640x480 with 1 Axes>"
            ],
            "image/png": "[encoded data removed]"
          },
          "metadata": {}
        }
      ]
    },
    {
      "cell_type": "code",
      "source": [
        "# create a histogram of the score column\n",
        "plt.hist(posts_df['score'])\n",
        "plt.title('Score distribution')\n",
        "plt.xlabel('Score')\n",
        "plt.ylabel('Frequency')\n",
        "plt.show()"
      ],
      "metadata": {
        "colab": {
          "base_uri": "https://localhost:8080/",
          "height": 472
        },
        "id": "rIq9I6pFcQsz",
        "outputId": "50fb0e0a-af17-4317-d6b5-894523480e06"
      },
      "execution_count": 80,
      "outputs": [
        {
          "output_type": "display_data",
          "data": {
            "text/plain": [
              "<Figure size 640x480 with 1 Axes>"
            ],
            "image/png": "[encoded data removed]"
          },
          "metadata": {}
        }
      ]
    },
    {
      "cell_type": "code",
      "source": [
        "# count the number of occurrences of each subreddit and display the top 10\n",
        "posts_df = pd.DataFrame(posts_df)\n",
        "top_subreddits = posts_df['subreddit'].value_counts().head(10)\n",
        "print(top_subreddits)"
      ],
      "metadata": {
        "colab": {
          "base_uri": "https://localhost:8080/"
        },
        "id": "h3d1CMTLbw6e",
        "outputId": "36ebf8f1-f523-43ec-9824-ade94f14dc49"
      },
      "execution_count": 87,
      "outputs": [
        {
          "output_type": "stream",
          "name": "stdout",
          "text": [
            "sales           96\n",
            "Entrepreneur    82\n",
            "productivity    13\n",
            "Alternatives     4\n",
            "Name: subreddit, dtype: int64\n"
          ]
        }
      ]
    },
    {
      "cell_type": "code",
      "source": [
        "import seaborn as sns\n",
        "\n",
        "sns.scatterplot(data=posts_df, x='score', y='num_comments', hue='subreddit')\n",
        "#here we can understand that 'enterpreneur' is more rated categoty by keyword"
      ],
      "metadata": {
        "colab": {
          "base_uri": "https://localhost:8080/",
          "height": 470
        },
        "id": "XMye9tDNbxUY",
        "outputId": "6305eccd-4ed3-4e70-b601-7ff660dea41c"
      },
      "execution_count": 88,
      "outputs": [
        {
          "output_type": "execute_result",
          "data": {
            "text/plain": [
              "<Axes: xlabel='score', ylabel='num_comments'>"
            ]
          },
          "metadata": {},
          "execution_count": 88
        },
        {
          "output_type": "display_data",
          "data": {
            "text/plain": [
              "<Figure size 640x480 with 1 Axes>"
            ],
            "image/png": "[encoded data removed]"
          },
          "metadata": {}
        }
      ]
    },
    {
      "cell_type": "code",
      "source": [
        "import matplotlib.pyplot as plt\n",
        "\n",
        "corr = posts_df[['score', 'num_comments', 'upvote_ratio']].corr()\n",
        "\n",
        "plt.figure(figsize=(8, 6))\n",
        "sns.heatmap(corr, cmap='coolwarm', annot=True, square=True)\n",
        "plt.title('Correlation between Post Attributes')\n"
      ],
      "metadata": {
        "colab": {
          "base_uri": "https://localhost:8080/",
          "height": 562
        },
        "id": "fWM4n7SUlvPI",
        "outputId": "83cafff6-8799-4764-b7ab-d3f871a4c423"
      },
      "execution_count": 89,
      "outputs": [
        {
          "output_type": "execute_result",
          "data": {
            "text/plain": [
              "Text(0.5, 1.0, 'Correlation between Post Attributes')"
            ]
          },
          "metadata": {},
          "execution_count": 89
        },
        {
          "output_type": "display_data",
          "data": {
            "text/plain": [
              "<Figure size 800x600 with 2 Axes>"
            ],
            "image/png": "[encoded data removed]"
          },
          "metadata": {}
        }
      ]
    },
    {
      "cell_type": "code",
      "source": [
        "subreddit_stats = posts_df.astype({'subreddit': 'str'}).groupby('subreddit')[['score', 'num_comments', 'upvote_ratio']].mean().reset_index()\n"
      ],
      "metadata": {
        "id": "sqjATjPymGar"
      },
      "execution_count": 92,
      "outputs": []
    },
    {
      "cell_type": "code",
      "source": [
        "subreddit_stats"
      ],
      "metadata": {
        "colab": {
          "base_uri": "https://localhost:8080/",
          "height": 174
        },
        "id": "S9zBHv05mlsO",
        "outputId": "1f7622b0-8e44-4f16-9583-3e91785e638c"
      },
      "execution_count": 93,
      "outputs": [
        {
          "output_type": "execute_result",
          "data": {
            "text/plain": [
              "      subreddit        score  num_comments  upvote_ratio\n",
              "0  Alternatives     1.000000      0.000000      0.832500\n",
              "1  Entrepreneur  1100.658537    201.073171      0.938780\n",
              "2  productivity   636.692308     53.000000      0.974615\n",
              "3         sales   259.072917    101.635417      0.959583"
            ],
            "text/html": [
              "\n",
              "  <div id=\"df-83ad300b-cb20-484b-add2-708fb2b01fb7\">\n",
              "    <div class=\"colab-df-container\">\n",
              "      <div>\n",
              "<style scoped>\n",
              "    .dataframe tbody tr th:only-of-type {\n",
              "        vertical-align: middle;\n",
              "    }\n",
              "\n",
              "    .dataframe tbody tr th {\n",
              "        vertical-align: top;\n",
              "    }\n",
              "\n",
              "    .dataframe thead th {\n",
              "        text-align: right;\n",
              "    }\n",
              "</style>\n",
              "<table border=\"1\" class=\"dataframe\">\n",
              "  <thead>\n",
              "    <tr style=\"text-align: right;\">\n",
              "      <th></th>\n",
              "      <th>subreddit</th>\n",
              "      <th>score</th>\n",
              "      <th>num_comments</th>\n",
              "      <th>upvote_ratio</th>\n",
              "    </tr>\n",
              "  </thead>\n",
              "  <tbody>\n",
              "    <tr>\n",
              "      <th>0</th>\n",
              "      <td>Alternatives</td>\n",
              "      <td>1.000000</td>\n",
              "      <td>0.000000</td>\n",
              "      <td>0.832500</td>\n",
              "    </tr>\n",
              "    <tr>\n",
              "      <th>1</th>\n",
              "      <td>Entrepreneur</td>\n",
              "      <td>1100.658537</td>\n",
              "      <td>201.073171</td>\n",
              "      <td>0.938780</td>\n",
              "    </tr>\n",
              "    <tr>\n",
              "      <th>2</th>\n",
              "      <td>productivity</td>\n",
              "      <td>636.692308</td>\n",
              "      <td>53.000000</td>\n",
              "      <td>0.974615</td>\n",
              "    </tr>\n",
              "    <tr>\n",
              "      <th>3</th>\n",
              "      <td>sales</td>\n",
              "      <td>259.072917</td>\n",
              "      <td>101.635417</td>\n",
              "      <td>0.959583</td>\n",
              "    </tr>\n",
              "  </tbody>\n",
              "</table>\n",
              "</div>\n",
              "      <button class=\"colab-df-convert\" onclick=\"convertToInteractive('df-83ad300b-cb20-484b-add2-708fb2b01fb7')\"\n",
              "              title=\"Convert this dataframe to an interactive table.\"\n",
              "              style=\"display:none;\">\n",
              "        \n",
              "  <svg xmlns=\"http://www.w3.org/2000/svg\" height=\"24px\"viewBox=\"0 0 24 24\"\n",
              "       width=\"24px\">\n",
              "    <path d=\"M0 0h24v24H0V0z\" fill=\"none\"/>\n",
              "    <path d=\"M18.56 5.44l.94 2.06.94-2.06 2.06-.94-2.06-.94-.94-2.06-.94 2.06-2.06.94zm-11 1L8.5 8.5l.94-2.06 2.06-.94-2.06-.94L8.5 2.5l-.94 2.06-2.06.94zm10 10l.94 2.06.94-2.06 2.06-.94-2.06-.94-.94-2.06-.94 2.06-2.06.94z\"/><path d=\"M17.41 7.96l-1.37-1.37c-.4-.4-.92-.59-1.43-.59-.52 0-1.04.2-1.43.59L10.3 9.45l-7.72 7.72c-.78.78-.78 2.05 0 2.83L4 21.41c.39.39.9.59 1.41.59.51 0 1.02-.2 1.41-.59l7.78-7.78 2.81-2.81c.8-.78.8-2.07 0-2.86zM5.41 20L4 18.59l7.72-7.72 1.47 1.35L5.41 20z\"/>\n",
              "  </svg>\n",
              "      </button>\n",
              "      \n",
              "  <style>\n",
              "    .colab-df-container {\n",
              "      display:flex;\n",
              "      flex-wrap:wrap;\n",
              "      gap: 12px;\n",
              "    }\n",
              "\n",
              "    .colab-df-convert {\n",
              "      background-color: #E8F0FE;\n",
              "      border: none;\n",
              "      border-radius: 50%;\n",
              "      cursor: pointer;\n",
              "      display: none;\n",
              "      fill: #1967D2;\n",
              "      height: 32px;\n",
              "      padding: 0 0 0 0;\n",
              "      width: 32px;\n",
              "    }\n",
              "\n",
              "    .colab-df-convert:hover {\n",
              "      background-color: #E2EBFA;\n",
              "      box-shadow: 0px 1px 2px rgba(60, 64, 67, 0.3), 0px 1px 3px 1px rgba(60, 64, 67, 0.15);\n",
              "      fill: #174EA6;\n",
              "    }\n",
              "\n",
              "    [theme=dark] .colab-df-convert {\n",
              "      background-color: #3B4455;\n",
              "      fill: #D2E3FC;\n",
              "    }\n",
              "\n",
              "    [theme=dark] .colab-df-convert:hover {\n",
              "      background-color: #434B5C;\n",
              "      box-shadow: 0px 1px 3px 1px rgba(0, 0, 0, 0.15);\n",
              "      filter: drop-shadow(0px 1px 2px rgba(0, 0, 0, 0.3));\n",
              "      fill: #FFFFFF;\n",
              "    }\n",
              "  </style>\n",
              "\n",
              "      <script>\n",
              "        const buttonEl =\n",
              "          document.querySelector('#df-83ad300b-cb20-484b-add2-708fb2b01fb7 button.colab-df-convert');\n",
              "        buttonEl.style.display =\n",
              "          google.colab.kernel.accessAllowed ? 'block' : 'none';\n",
              "\n",
              "        async function convertToInteractive(key) {\n",
              "          const element = document.querySelector('#df-83ad300b-cb20-484b-add2-708fb2b01fb7');\n",
              "          const dataTable =\n",
              "            await google.colab.kernel.invokeFunction('convertToInteractive',\n",
              "                                                     [key], {});\n",
              "          if (!dataTable) return;\n",
              "\n",
              "          const docLinkHtml = 'Like what you see? Visit the ' +\n",
              "            '<a target=\"_blank\" href=https://colab.research.google.com/notebooks/data_table.ipynb>data table notebook</a>'\n",
              "            + ' to learn more about interactive tables.';\n",
              "          element.innerHTML = '';\n",
              "          dataTable['output_type'] = 'display_data';\n",
              "          await google.colab.output.renderOutput(dataTable, element);\n",
              "          const docLink = document.createElement('div');\n",
              "          docLink.innerHTML = docLinkHtml;\n",
              "          element.appendChild(docLink);\n",
              "        }\n",
              "      </script>\n",
              "    </div>\n",
              "  </div>\n",
              "  "
            ]
          },
          "metadata": {},
          "execution_count": 93
        }
      ]
    },
    {
      "cell_type": "markdown",
      "source": [
        "# Getting and classification Reddit data"
      ],
      "metadata": {
        "id": "gDSOcgnqi-aJ"
      }
    },
    {
      "cell_type": "markdown",
      "source": [
        "# Data Visualizations "
      ],
      "metadata": {
        "id": "ii1J1Vn7jLWj"
      }
    },
    {
      "cell_type": "markdown",
      "source": [],
      "metadata": {
        "id": "S0UjnMgpi6s8"
      }
    }
  ]
}
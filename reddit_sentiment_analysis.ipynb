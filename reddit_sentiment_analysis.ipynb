{
  "nbformat": 4,
  "nbformat_minor": 0,
  "metadata": {
    "colab": {
      "provenance": [],
      "authorship_tag": "ABX9TyPZUVaF0uwUQBCQ0UGgHM7D",
      "include_colab_link": true
    },
    "kernelspec": {
      "name": "python3",
      "display_name": "Python 3"
    },
    "language_info": {
      "name": "python"
    }
  },
  "cells": [
    {
      "cell_type": "markdown",
      "metadata": {
        "id": "view-in-github",
        "colab_type": "text"
      },
      "source": [
        "<a href=\"https://colab.research.google.com/github/baranouskiart/reddit_sentiment/blob/main/reddit_sentiment_analysis.ipynb\" target=\"_parent\"><img src=\"https://colab.research.google.com/assets/colab-badge.svg\" alt=\"Open In Colab\"/></a>"
      ]
    },
    {
      "cell_type": "code",
      "execution_count": 66,
      "metadata": {
        "id": "HF8pvGXOKDgM"
      },
      "outputs": [],
      "source": [
        "from pprint import pprint\n",
        "import pandas as pd\n",
        "import numpy as np\n",
        "import matplotlib.pyplot as plt\n",
        "import seaborn as sns"
      ]
    },
    {
      "cell_type": "code",
      "source": [
        "!pip install praw "
      ],
      "metadata": {
        "colab": {
          "base_uri": "https://localhost:8080/"
        },
        "id": "nSvzX_ipKgFL",
        "outputId": "4da49dd3-b818-4ab7-f86e-d5e59a3c0df4"
      },
      "execution_count": 67,
      "outputs": [
        {
          "output_type": "stream",
          "name": "stdout",
          "text": [
            "Looking in indexes: https://pypi.org/simple, https://us-python.pkg.dev/colab-wheels/public/simple/\n",
            "Requirement already satisfied: praw in /usr/local/lib/python3.10/dist-packages (7.7.0)\n",
            "Requirement already satisfied: prawcore<3,>=2.1 in /usr/local/lib/python3.10/dist-packages (from praw) (2.3.0)\n",
            "Requirement already satisfied: update-checker>=0.18 in /usr/local/lib/python3.10/dist-packages (from praw) (0.18.0)\n",
            "Requirement already satisfied: websocket-client>=0.54.0 in /usr/local/lib/python3.10/dist-packages (from praw) (1.5.1)\n",
            "Requirement already satisfied: requests<3.0,>=2.6.0 in /usr/local/lib/python3.10/dist-packages (from prawcore<3,>=2.1->praw) (2.27.1)\n",
            "Requirement already satisfied: idna<4,>=2.5 in /usr/local/lib/python3.10/dist-packages (from requests<3.0,>=2.6.0->prawcore<3,>=2.1->praw) (3.4)\n",
            "Requirement already satisfied: charset-normalizer~=2.0.0 in /usr/local/lib/python3.10/dist-packages (from requests<3.0,>=2.6.0->prawcore<3,>=2.1->praw) (2.0.12)\n",
            "Requirement already satisfied: urllib3<1.27,>=1.21.1 in /usr/local/lib/python3.10/dist-packages (from requests<3.0,>=2.6.0->prawcore<3,>=2.1->praw) (1.26.15)\n",
            "Requirement already satisfied: certifi>=2017.4.17 in /usr/local/lib/python3.10/dist-packages (from requests<3.0,>=2.6.0->prawcore<3,>=2.1->praw) (2022.12.7)\n"
          ]
        }
      ]
    },
    {
      "cell_type": "code",
      "source": [
        "# !pip install asyncpraw\n"
      ],
      "metadata": {
        "id": "IcRgTXK3dtBG"
      },
      "execution_count": 68,
      "outputs": []
    },
    {
      "cell_type": "code",
      "source": [
        "# In a nutshell this secret key should not be visible due to the safety reasons, \n",
        "# but reddit approach to get API is very basic and my account info is not private.\n",
        "\n",
        "import praw #will change to asynchronys version\n",
        "\n",
        "user_agent = \"Scraper 1.0 by /u/Any_Extension_2610\"\n",
        "reddit = praw.Reddit(\n",
        "    client_id=\"QTNd9EfHR4xEstUGaT49kA\",\n",
        "    client_secret=\"2YVT0lSK-LGY73MkTDn5Z-0ybA8THQ\",\n",
        "    redirect_url='http://localhost:8080',\n",
        "    user_agent=user_agent\n",
        ")"
      ],
      "metadata": {
        "id": "NxFT-4sFKF-g"
      },
      "execution_count": 69,
      "outputs": []
    },
    {
      "cell_type": "code",
      "source": [
        "# import asyncpraw\n",
        "\n",
        "# reddit = asyncpraw.Reddit(\n",
        "#     client_id=\"QTNd9EfHR4xEstUGaT49kA\",\n",
        "#     client_secret=\"2YVT0lSK-LGY73MkTDn5Z-0ybA8THQ\",\n",
        "#     user_agent=\"Comment Extraction (by u/Any_Extension_2610)\",\n",
        "#     username=\"Any_Extension_2610\",\n",
        "# )"
      ],
      "metadata": {
        "id": "OPlpmwFQd4g9"
      },
      "execution_count": 70,
      "outputs": []
    },
    {
      "cell_type": "code",
      "source": [
        "posts = reddit.subreddit(\"Alternatives+Entrepreneur+sales+productivity\").top(time_filter=\"all\", limit=10000)\n"
      ],
      "metadata": {
        "id": "C3urjp5mYnrf"
      },
      "execution_count": 71,
      "outputs": []
    },
    {
      "cell_type": "code",
      "source": [
        "  posts_df = [] "
      ],
      "metadata": {
        "id": "UrnktAGTX5v1"
      },
      "execution_count": 72,
      "outputs": []
    },
    {
      "cell_type": "markdown",
      "source": [
        "# Introduction"
      ],
      "metadata": {
        "id": "FzqWDqNPLIEb"
      }
    },
    {
      "cell_type": "markdown",
      "source": [
        "\n",
        "*   The purpose of this project is to perform sentiment analysis on Reddit headlines and comments to identify the most popular CRM and ERP system alternatives.\n",
        "\n",
        "*   The goal is to understand and visualize the impact of consumers desicion after search verification in the various project management systems abd tools using Reddit data.\n",
        "\n",
        "*   This project is a junior classification task. So it's based on previous knowledge about reputation management I have, not copypasting the hole code.\n"
      ],
      "metadata": {
        "id": "mcECdgO0LAyf"
      }
    },
    {
      "cell_type": "code",
      "source": [
        "# for submission in reddit.subreddit(\"Alternatives+Entrepreneur+sales+Notion\").top(time_filter=\"all\", limit=3000):\n",
        "#   print(submission)"
      ],
      "metadata": {
        "id": "Ap1seXR5KdyV"
      },
      "execution_count": 73,
      "outputs": []
    },
    {
      "cell_type": "code",
      "source": [
        "for post in posts:\n",
        "    if \"crm\" in post.title.lower() or \"erp\" in post.title.lower() or \"crm\" in post.selftext.lower() or \"erp\" in post.selftext.lower():\n",
        "        posts_df.append({\n",
        "            'post_id' : post.id,\n",
        "            'subreddit' : post.subreddit,\n",
        "            'created_utc' : post.created_utc,\n",
        "            'selftext' : post.selftext,\n",
        "            'post_url' : post.url,\n",
        "            'post_title': post.title,\n",
        "            'link_flair_text' : post.link_flair_text,\n",
        "            'score' : post.score,\n",
        "            'num_comments' : post.num_comments,\n",
        "            'upvote_ratio' : post.upvote_ratio\n",
        "        })\n"
      ],
      "metadata": {
        "colab": {
          "base_uri": "https://localhost:8080/"
        },
        "id": "N78Jkg4UP_Fe",
        "outputId": "e11e7378-6021-48e7-bb40-faeaee99fadf"
      },
      "execution_count": 74,
      "outputs": [
        {
          "output_type": "stream",
          "name": "stderr",
          "text": [
            "WARNING:praw:It appears that you are using PRAW in an asynchronous environment.\n",
            "It is strongly recommended to use Async PRAW: https://asyncpraw.readthedocs.io.\n",
            "See https://praw.readthedocs.io/en/latest/getting_started/multiple_instances.html#discord-bots-and-asynchronous-environments for more info.\n",
            "\n",
            "WARNING:praw:It appears that you are using PRAW in an asynchronous environment.\n",
            "It is strongly recommended to use Async PRAW: https://asyncpraw.readthedocs.io.\n",
            "See https://praw.readthedocs.io/en/latest/getting_started/multiple_instances.html#discord-bots-and-asynchronous-environments for more info.\n",
            "\n",
            "WARNING:praw:It appears that you are using PRAW in an asynchronous environment.\n",
            "It is strongly recommended to use Async PRAW: https://asyncpraw.readthedocs.io.\n",
            "See https://praw.readthedocs.io/en/latest/getting_started/multiple_instances.html#discord-bots-and-asynchronous-environments for more info.\n",
            "\n",
            "WARNING:praw:It appears that you are using PRAW in an asynchronous environment.\n",
            "It is strongly recommended to use Async PRAW: https://asyncpraw.readthedocs.io.\n",
            "See https://praw.readthedocs.io/en/latest/getting_started/multiple_instances.html#discord-bots-and-asynchronous-environments for more info.\n",
            "\n",
            "WARNING:praw:It appears that you are using PRAW in an asynchronous environment.\n",
            "It is strongly recommended to use Async PRAW: https://asyncpraw.readthedocs.io.\n",
            "See https://praw.readthedocs.io/en/latest/getting_started/multiple_instances.html#discord-bots-and-asynchronous-environments for more info.\n",
            "\n",
            "WARNING:praw:It appears that you are using PRAW in an asynchronous environment.\n",
            "It is strongly recommended to use Async PRAW: https://asyncpraw.readthedocs.io.\n",
            "See https://praw.readthedocs.io/en/latest/getting_started/multiple_instances.html#discord-bots-and-asynchronous-environments for more info.\n",
            "\n",
            "WARNING:praw:It appears that you are using PRAW in an asynchronous environment.\n",
            "It is strongly recommended to use Async PRAW: https://asyncpraw.readthedocs.io.\n",
            "See https://praw.readthedocs.io/en/latest/getting_started/multiple_instances.html#discord-bots-and-asynchronous-environments for more info.\n",
            "\n",
            "WARNING:praw:It appears that you are using PRAW in an asynchronous environment.\n",
            "It is strongly recommended to use Async PRAW: https://asyncpraw.readthedocs.io.\n",
            "See https://praw.readthedocs.io/en/latest/getting_started/multiple_instances.html#discord-bots-and-asynchronous-environments for more info.\n",
            "\n",
            "WARNING:praw:It appears that you are using PRAW in an asynchronous environment.\n",
            "It is strongly recommended to use Async PRAW: https://asyncpraw.readthedocs.io.\n",
            "See https://praw.readthedocs.io/en/latest/getting_started/multiple_instances.html#discord-bots-and-asynchronous-environments for more info.\n",
            "\n",
            "WARNING:praw:It appears that you are using PRAW in an asynchronous environment.\n",
            "It is strongly recommended to use Async PRAW: https://asyncpraw.readthedocs.io.\n",
            "See https://praw.readthedocs.io/en/latest/getting_started/multiple_instances.html#discord-bots-and-asynchronous-environments for more info.\n",
            "\n",
            "WARNING:praw:It appears that you are using PRAW in an asynchronous environment.\n",
            "It is strongly recommended to use Async PRAW: https://asyncpraw.readthedocs.io.\n",
            "See https://praw.readthedocs.io/en/latest/getting_started/multiple_instances.html#discord-bots-and-asynchronous-environments for more info.\n",
            "\n",
            "WARNING:praw:It appears that you are using PRAW in an asynchronous environment.\n",
            "It is strongly recommended to use Async PRAW: https://asyncpraw.readthedocs.io.\n",
            "See https://praw.readthedocs.io/en/latest/getting_started/multiple_instances.html#discord-bots-and-asynchronous-environments for more info.\n",
            "\n",
            "WARNING:praw:It appears that you are using PRAW in an asynchronous environment.\n",
            "It is strongly recommended to use Async PRAW: https://asyncpraw.readthedocs.io.\n",
            "See https://praw.readthedocs.io/en/latest/getting_started/multiple_instances.html#discord-bots-and-asynchronous-environments for more info.\n",
            "\n",
            "WARNING:praw:It appears that you are using PRAW in an asynchronous environment.\n",
            "It is strongly recommended to use Async PRAW: https://asyncpraw.readthedocs.io.\n",
            "See https://praw.readthedocs.io/en/latest/getting_started/multiple_instances.html#discord-bots-and-asynchronous-environments for more info.\n",
            "\n",
            "WARNING:praw:It appears that you are using PRAW in an asynchronous environment.\n",
            "It is strongly recommended to use Async PRAW: https://asyncpraw.readthedocs.io.\n",
            "See https://praw.readthedocs.io/en/latest/getting_started/multiple_instances.html#discord-bots-and-asynchronous-environments for more info.\n",
            "\n",
            "WARNING:praw:It appears that you are using PRAW in an asynchronous environment.\n",
            "It is strongly recommended to use Async PRAW: https://asyncpraw.readthedocs.io.\n",
            "See https://praw.readthedocs.io/en/latest/getting_started/multiple_instances.html#discord-bots-and-asynchronous-environments for more info.\n",
            "\n",
            "WARNING:praw:It appears that you are using PRAW in an asynchronous environment.\n",
            "It is strongly recommended to use Async PRAW: https://asyncpraw.readthedocs.io.\n",
            "See https://praw.readthedocs.io/en/latest/getting_started/multiple_instances.html#discord-bots-and-asynchronous-environments for more info.\n",
            "\n",
            "WARNING:praw:It appears that you are using PRAW in an asynchronous environment.\n",
            "It is strongly recommended to use Async PRAW: https://asyncpraw.readthedocs.io.\n",
            "See https://praw.readthedocs.io/en/latest/getting_started/multiple_instances.html#discord-bots-and-asynchronous-environments for more info.\n",
            "\n",
            "WARNING:praw:It appears that you are using PRAW in an asynchronous environment.\n",
            "It is strongly recommended to use Async PRAW: https://asyncpraw.readthedocs.io.\n",
            "See https://praw.readthedocs.io/en/latest/getting_started/multiple_instances.html#discord-bots-and-asynchronous-environments for more info.\n",
            "\n",
            "WARNING:praw:It appears that you are using PRAW in an asynchronous environment.\n",
            "It is strongly recommended to use Async PRAW: https://asyncpraw.readthedocs.io.\n",
            "See https://praw.readthedocs.io/en/latest/getting_started/multiple_instances.html#discord-bots-and-asynchronous-environments for more info.\n",
            "\n",
            "WARNING:praw:It appears that you are using PRAW in an asynchronous environment.\n",
            "It is strongly recommended to use Async PRAW: https://asyncpraw.readthedocs.io.\n",
            "See https://praw.readthedocs.io/en/latest/getting_started/multiple_instances.html#discord-bots-and-asynchronous-environments for more info.\n",
            "\n",
            "WARNING:praw:It appears that you are using PRAW in an asynchronous environment.\n",
            "It is strongly recommended to use Async PRAW: https://asyncpraw.readthedocs.io.\n",
            "See https://praw.readthedocs.io/en/latest/getting_started/multiple_instances.html#discord-bots-and-asynchronous-environments for more info.\n",
            "\n",
            "WARNING:praw:It appears that you are using PRAW in an asynchronous environment.\n",
            "It is strongly recommended to use Async PRAW: https://asyncpraw.readthedocs.io.\n",
            "See https://praw.readthedocs.io/en/latest/getting_started/multiple_instances.html#discord-bots-and-asynchronous-environments for more info.\n",
            "\n",
            "WARNING:praw:It appears that you are using PRAW in an asynchronous environment.\n",
            "It is strongly recommended to use Async PRAW: https://asyncpraw.readthedocs.io.\n",
            "See https://praw.readthedocs.io/en/latest/getting_started/multiple_instances.html#discord-bots-and-asynchronous-environments for more info.\n",
            "\n",
            "WARNING:praw:It appears that you are using PRAW in an asynchronous environment.\n",
            "It is strongly recommended to use Async PRAW: https://asyncpraw.readthedocs.io.\n",
            "See https://praw.readthedocs.io/en/latest/getting_started/multiple_instances.html#discord-bots-and-asynchronous-environments for more info.\n",
            "\n",
            "WARNING:praw:It appears that you are using PRAW in an asynchronous environment.\n",
            "It is strongly recommended to use Async PRAW: https://asyncpraw.readthedocs.io.\n",
            "See https://praw.readthedocs.io/en/latest/getting_started/multiple_instances.html#discord-bots-and-asynchronous-environments for more info.\n",
            "\n",
            "WARNING:praw:It appears that you are using PRAW in an asynchronous environment.\n",
            "It is strongly recommended to use Async PRAW: https://asyncpraw.readthedocs.io.\n",
            "See https://praw.readthedocs.io/en/latest/getting_started/multiple_instances.html#discord-bots-and-asynchronous-environments for more info.\n",
            "\n",
            "WARNING:praw:It appears that you are using PRAW in an asynchronous environment.\n",
            "It is strongly recommended to use Async PRAW: https://asyncpraw.readthedocs.io.\n",
            "See https://praw.readthedocs.io/en/latest/getting_started/multiple_instances.html#discord-bots-and-asynchronous-environments for more info.\n",
            "\n",
            "WARNING:praw:It appears that you are using PRAW in an asynchronous environment.\n",
            "It is strongly recommended to use Async PRAW: https://asyncpraw.readthedocs.io.\n",
            "See https://praw.readthedocs.io/en/latest/getting_started/multiple_instances.html#discord-bots-and-asynchronous-environments for more info.\n",
            "\n",
            "WARNING:praw:It appears that you are using PRAW in an asynchronous environment.\n",
            "It is strongly recommended to use Async PRAW: https://asyncpraw.readthedocs.io.\n",
            "See https://praw.readthedocs.io/en/latest/getting_started/multiple_instances.html#discord-bots-and-asynchronous-environments for more info.\n",
            "\n",
            "WARNING:praw:It appears that you are using PRAW in an asynchronous environment.\n",
            "It is strongly recommended to use Async PRAW: https://asyncpraw.readthedocs.io.\n",
            "See https://praw.readthedocs.io/en/latest/getting_started/multiple_instances.html#discord-bots-and-asynchronous-environments for more info.\n",
            "\n",
            "WARNING:praw:It appears that you are using PRAW in an asynchronous environment.\n",
            "It is strongly recommended to use Async PRAW: https://asyncpraw.readthedocs.io.\n",
            "See https://praw.readthedocs.io/en/latest/getting_started/multiple_instances.html#discord-bots-and-asynchronous-environments for more info.\n",
            "\n"
          ]
        }
      ]
    },
    {
      "cell_type": "code",
      "source": [
        "posts_df = pd.DataFrame(posts_df)"
      ],
      "metadata": {
        "id": "cvenRM4gbADk"
      },
      "execution_count": 75,
      "outputs": []
    },
    {
      "cell_type": "markdown",
      "source": [
        "## Methodology:\n",
        "\n",
        "\n",
        "*   The project will use sentiment analysis techniques to determine the overall sentiment of the comments and headlines related to various CRM and ERP systems and their alternatives.\n",
        "*   The sentiment analysis will be performed using machine learning algorithms and libraries such as NLTK, Scikit-learn, and TextBlob.\n",
        "\n",
        "* The project will also involve data cleaning and preprocessing to prepare the data for analysis.\n"
      ],
      "metadata": {
        "id": "C2vg7cYZcbJr"
      }
    },
    {
      "cell_type": "code",
      "source": [
        "posts_df.describe "
      ],
      "metadata": {
        "colab": {
          "base_uri": "https://localhost:8080/"
        },
        "id": "bHz_c4ncZLt9",
        "outputId": "d60cbcf1-7dc1-48b1-c534-6fc5af033fc5"
      },
      "execution_count": 76,
      "outputs": [
        {
          "output_type": "execute_result",
          "data": {
            "text/plain": [
              "<bound method NDFrame.describe of     post_id     subreddit   created_utc  \\\n",
              "0    eytom3  Entrepreneur  1.580838e+09   \n",
              "1    4wbdcz  Entrepreneur  1.470416e+09   \n",
              "2    g2ukmw  Entrepreneur  1.587096e+09   \n",
              "3    elyqf5  Entrepreneur  1.578517e+09   \n",
              "4    5vtkwo  Entrepreneur  1.487889e+09   \n",
              "..      ...           ...           ...   \n",
              "190  cli0s7         sales  1.564834e+09   \n",
              "191  3a10o4  Alternatives  1.434454e+09   \n",
              "192  cj9gki  Alternatives  1.564396e+09   \n",
              "193  9z29x9  Alternatives  1.542798e+09   \n",
              "194  dudjl9  Alternatives  1.573403e+09   \n",
              "\n",
              "                                              selftext  \\\n",
              "0    **TLDR -** Lil Nas X was a college dropout sle...   \n",
              "1    **Note: This is a chapter out of my [Growth Ha...   \n",
              "2    Lost my business overnight during this virus.....   \n",
              "3    This may be pretty controversial to lots of yo...   \n",
              "4    With the latest Amazon affiliate changes, we m...   \n",
              "..                                                 ...   \n",
              "190  Here is the most crucial wisdom I have learned...   \n",
              "191  Hello there.\\n\\nSo today I'm just gonna share ...   \n",
              "192                                                      \n",
              "193                                                      \n",
              "194  Hello,\\n\\nSince a lot of recent time , Reddit ...   \n",
              "\n",
              "                                              post_url  \\\n",
              "0    https://www.reddit.com/r/Entrepreneur/comments...   \n",
              "1    https://www.reddit.com/r/Entrepreneur/comments...   \n",
              "2    https://www.reddit.com/r/Entrepreneur/comments...   \n",
              "3    https://www.reddit.com/r/Entrepreneur/comments...   \n",
              "4    https://www.reddit.com/r/Entrepreneur/comments...   \n",
              "..                                                 ...   \n",
              "190  https://www.reddit.com/r/sales/comments/cli0s7...   \n",
              "191  https://www.reddit.com/r/Alternatives/comments...   \n",
              "192     https://www.salesmate.io/zoho-crm-alternative/   \n",
              "193  https://www.janbasktraining.com/blog/salesforc...   \n",
              "194  https://www.reddit.com/r/Alternatives/comments...   \n",
              "\n",
              "                                            post_title link_flair_text  score  \\\n",
              "0                    The marketing genius of Lil Nas X      Case Study   7453   \n",
              "1    SEO is Not Hard . A step-by-step SEO Tutorial ...            None   3955   \n",
              "2                                    Alright you Fucks            None   3289   \n",
              "3    Mental health matters. Toxic positivity is a t...            None   3115   \n",
              "4    For 11 years, I have been ranking ecommerce st...            None   2849   \n",
              "..                                                 ...             ...    ...   \n",
              "190  Nobody likes to be sold anything - yet everybo...          Advice    142   \n",
              "191                          Two alternatives to imgur            None      2   \n",
              "192  Best Zoho CRM Alternative Based on Features & ...            None      1   \n",
              "193  Top 20 Salesforce Alternatives: Is There Good ...            None      1   \n",
              "194         Tiblar - The new Social Media Alternative.            None      0   \n",
              "\n",
              "     num_comments  upvote_ratio  \n",
              "0             489          0.98  \n",
              "1             402          0.92  \n",
              "2             502          0.86  \n",
              "3             461          0.95  \n",
              "4             191          0.89  \n",
              "..            ...           ...  \n",
              "190            59          0.96  \n",
              "191             0          1.00  \n",
              "192             0          1.00  \n",
              "193             0          1.00  \n",
              "194             0          0.33  \n",
              "\n",
              "[195 rows x 10 columns]>"
            ]
          },
          "metadata": {},
          "execution_count": 76
        }
      ]
    },
    {
      "cell_type": "code",
      "source": [
        "# get the basic statistics of the score column\n",
        "score_stats = posts_df['score'].describe()\n",
        "# get the basic statistics of the comments column\n",
        "comments_stats = posts_df['num_comments'].describe()"
      ],
      "metadata": {
        "id": "_iUZisjEbGQ-"
      },
      "execution_count": 77,
      "outputs": []
    },
    {
      "cell_type": "code",
      "source": [
        "# print the statistics\n",
        "print(\"Score statistics:\")\n",
        "print(score_stats)\n",
        "print(\"Comments statistics:\")\n",
        "print(comments_stats)"
      ],
      "metadata": {
        "colab": {
          "base_uri": "https://localhost:8080/"
        },
        "id": "o2CF1OMVcILO",
        "outputId": "253f0753-65bd-4c24-c0af-4f025f3f41d7"
      },
      "execution_count": 78,
      "outputs": [
        {
          "output_type": "stream",
          "name": "stdout",
          "text": [
            "Score statistics:\n",
            "count     195.000000\n",
            "mean      632.851282\n",
            "std       751.199915\n",
            "min         0.000000\n",
            "25%       206.000000\n",
            "50%       459.000000\n",
            "75%       797.500000\n",
            "max      7453.000000\n",
            "Name: score, dtype: float64\n",
            "Comments statistics:\n",
            "count    195.000000\n",
            "mean     138.123077\n",
            "std      117.410309\n",
            "min        0.000000\n",
            "25%       58.500000\n",
            "50%      105.000000\n",
            "75%      188.000000\n",
            "max      767.000000\n",
            "Name: num_comments, dtype: float64\n"
          ]
        }
      ]
    },
    {
      "cell_type": "code",
      "source": [
        "# create a boxplot of the comments column\n",
        "plt.boxplot(posts_df['num_comments'])\n",
        "plt.title('Comments distribution')\n",
        "plt.ylabel('Number of comments')\n",
        "plt.show()"
      ],
      "metadata": {
        "colab": {
          "base_uri": "https://localhost:8080/",
          "height": 452
        },
        "id": "Gy2MsTo3bG9Y",
        "outputId": "7762b735-2fe2-4670-b0f2-47be33f37952"
      },
      "execution_count": 79,
      "outputs": [
        {
          "output_type": "display_data",
          "data": {
            "text/plain": [
              "<Figure size 640x480 with 1 Axes>"
            ],
            "image/png": "[encoded data removed]"
          },
          "metadata": {}
        }
      ]
    },
    {
      "cell_type": "code",
      "source": [
        "# create a histogram of the score column\n",
        "plt.hist(posts_df['score'])\n",
        "plt.title('Score distribution')\n",
        "plt.xlabel('Score')\n",
        "plt.ylabel('Frequency')\n",
        "plt.show()"
      ],
      "metadata": {
        "colab": {
          "base_uri": "https://localhost:8080/",
          "height": 472
        },
        "id": "rIq9I6pFcQsz",
        "outputId": "50fb0e0a-af17-4317-d6b5-894523480e06"
      },
      "execution_count": 80,
      "outputs": [
        {
          "output_type": "display_data",
          "data": {
            "text/plain": [
              "<Figure size 640x480 with 1 Axes>"
            ],
            "image/png": "[encoded data removed]"
          },
          "metadata": {}
        }
      ]
    },
    {
      "cell_type": "code",
      "source": [
        "# count the number of occurrences of each subreddit and display the top 10\n",
        "posts_df = pd.DataFrame(posts_df)\n",
        "top_subreddits = posts_df['subreddit'].value_counts().head(10)\n",
        "print(top_subreddits)"
      ],
      "metadata": {
        "colab": {
          "base_uri": "https://localhost:8080/"
        },
        "id": "h3d1CMTLbw6e",
        "outputId": "bd4cd00e-cbcc-458a-a117-22a6ed7db59e"
      },
      "execution_count": 81,
      "outputs": [
        {
          "output_type": "stream",
          "name": "stdout",
          "text": [
            "sales           96\n",
            "Entrepreneur    82\n",
            "productivity    13\n",
            "Alternatives     4\n",
            "Name: subreddit, dtype: int64\n"
          ]
        }
      ]
    },
    {
      "cell_type": "code",
      "source": [],
      "metadata": {
        "id": "XMye9tDNbxUY"
      },
      "execution_count": 81,
      "outputs": []
    }
  ]
}
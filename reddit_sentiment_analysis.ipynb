{
  "nbformat": 4,
  "nbformat_minor": 0,
  "metadata": {
    "colab": {
      "provenance": [],
      "authorship_tag": "ABX9TyOThudYUbwBIFbGzY5D5dlb",
      "include_colab_link": true
    },
    "kernelspec": {
      "name": "python3",
      "display_name": "Python 3"
    },
    "language_info": {
      "name": "python"
    }
  },
  "cells": [
    {
      "cell_type": "markdown",
      "metadata": {
        "id": "view-in-github",
        "colab_type": "text"
      },
      "source": [
        "<a href=\"https://colab.research.google.com/github/baranouskiart/reddit_sentiment/blob/main/reddit_sentiment_analysis.ipynb\" target=\"_parent\"><img src=\"https://colab.research.google.com/assets/colab-badge.svg\" alt=\"Open In Colab\"/></a>"
      ]
    },
    {
      "cell_type": "code",
      "execution_count": 1,
      "metadata": {
        "id": "HF8pvGXOKDgM"
      },
      "outputs": [],
      "source": [
        "from pprint import pprint\n",
        "import pandas as pd\n",
        "import numpy as np\n",
        "import matplotlib.pyplot as plt\n",
        "import seaborn as sns"
      ]
    },
    {
      "cell_type": "code",
      "source": [
        "!pip install praw"
      ],
      "metadata": {
        "colab": {
          "base_uri": "https://localhost:8080/"
        },
        "id": "nSvzX_ipKgFL",
        "outputId": "7317770d-391f-43f3-b9f6-35328703909e"
      },
      "execution_count": 3,
      "outputs": [
        {
          "output_type": "stream",
          "name": "stdout",
          "text": [
            "Looking in indexes: https://pypi.org/simple, https://us-python.pkg.dev/colab-wheels/public/simple/\n",
            "Collecting praw\n",
            "  Downloading praw-7.7.0-py3-none-any.whl (189 kB)\n",
            "\u001b[2K     \u001b[90m━━━━━━━━━━━━━━━━━━━━━━━━━━━━━━━━━━━━━━━\u001b[0m \u001b[32m189.4/189.4 kB\u001b[0m \u001b[31m4.7 MB/s\u001b[0m eta \u001b[36m0:00:00\u001b[0m\n",
            "\u001b[?25hCollecting prawcore<3,>=2.1\n",
            "  Downloading prawcore-2.3.0-py3-none-any.whl (16 kB)\n",
            "Collecting update-checker>=0.18\n",
            "  Downloading update_checker-0.18.0-py3-none-any.whl (7.0 kB)\n",
            "Requirement already satisfied: websocket-client>=0.54.0 in /usr/local/lib/python3.10/dist-packages (from praw) (1.5.1)\n",
            "Requirement already satisfied: requests<3.0,>=2.6.0 in /usr/local/lib/python3.10/dist-packages (from prawcore<3,>=2.1->praw) (2.27.1)\n",
            "Requirement already satisfied: charset-normalizer~=2.0.0 in /usr/local/lib/python3.10/dist-packages (from requests<3.0,>=2.6.0->prawcore<3,>=2.1->praw) (2.0.12)\n",
            "Requirement already satisfied: idna<4,>=2.5 in /usr/local/lib/python3.10/dist-packages (from requests<3.0,>=2.6.0->prawcore<3,>=2.1->praw) (3.4)\n",
            "Requirement already satisfied: urllib3<1.27,>=1.21.1 in /usr/local/lib/python3.10/dist-packages (from requests<3.0,>=2.6.0->prawcore<3,>=2.1->praw) (1.26.15)\n",
            "Requirement already satisfied: certifi>=2017.4.17 in /usr/local/lib/python3.10/dist-packages (from requests<3.0,>=2.6.0->prawcore<3,>=2.1->praw) (2022.12.7)\n",
            "Installing collected packages: update-checker, prawcore, praw\n",
            "Successfully installed praw-7.7.0 prawcore-2.3.0 update-checker-0.18.0\n"
          ]
        }
      ]
    },
    {
      "cell_type": "code",
      "source": [
        "# In a nutshell this secret key should not be visible due to the safety reasons, \n",
        "# but reddit approach to get API is very basic and my account info is not private.\n",
        "\n",
        "import praw\n",
        "\n",
        "user_agent = \"Scraper 1.0 by /u/Any_Extension_2610\"\n",
        "reddit = praw.Reddit(\n",
        "    client_id=\"QTNd9EfHR4xEstUGaT49kA\",\n",
        "    client_secret=\"2YVT0lSK-LGY73MkTDn5Z-0ybA8THQ\",\n",
        "    user_agent=user_agent\n",
        ")"
      ],
      "metadata": {
        "id": "NxFT-4sFKF-g"
      },
      "execution_count": 5,
      "outputs": []
    },
    {
      "cell_type": "markdown",
      "source": [
        "# Introduction"
      ],
      "metadata": {
        "id": "FzqWDqNPLIEb"
      }
    },
    {
      "cell_type": "markdown",
      "source": [
        "\n",
        "*   The purpose of this project is to perform sentiment analysis on Reddit headlines and comments to identify the most popular CRM and ERP system alternatives.\n",
        "\n",
        "*   The goal is to understand and visualize the impact of consumers desicion after search verification in the various project management systems abd tools using Reddit data.\n",
        "\n",
        "*   This project is a junior classification task. So it's based on previous knowledge about reputation management I have, not copypasting the hole code.\n"
      ],
      "metadata": {
        "id": "mcECdgO0LAyf"
      }
    },
    {
      "cell_type": "code",
      "source": [
        "for submission in reddit.subreddit(\"Alternatives+Entrepreneur+sales+Notion\").top(time_filter=\"all\"):\n",
        "  print(submission)"
      ],
      "metadata": {
        "colab": {
          "base_uri": "https://localhost:8080/"
        },
        "id": "Ap1seXR5KdyV",
        "outputId": "fe20fd20-9f2a-4293-aed1-5010ed0335c4"
      },
      "execution_count": 8,
      "outputs": [
        {
          "output_type": "stream",
          "name": "stderr",
          "text": [
            "WARNING:praw:It appears that you are using PRAW in an asynchronous environment.\n",
            "It is strongly recommended to use Async PRAW: https://asyncpraw.readthedocs.io.\n",
            "See https://praw.readthedocs.io/en/latest/getting_started/multiple_instances.html#discord-bots-and-asynchronous-environments for more info.\n",
            "\n"
          ]
        },
        {
          "output_type": "stream",
          "name": "stdout",
          "text": [
            "fj4czk\n",
            "7ekxi7\n",
            "eytom3\n",
            "5ob55t\n",
            "zxbyob\n",
            "kqlfoz\n",
            "9p8g63\n",
            "5lfy6n\n",
            "7wv79f\n",
            "4wbdcz\n",
            "hac2iy\n",
            "5m0ra3\n",
            "g2ukmw\n",
            "mb8b3x\n",
            "6d24rb\n",
            "aylx5g\n",
            "k4mlw0\n",
            "elyqf5\n",
            "nvzni0\n",
            "gl7k4j\n",
            "rxn24l\n",
            "ql27dk\n",
            "5vtkwo\n",
            "x3ehfg\n",
            "jz0236\n",
            "ako3dd\n",
            "vqr0hm\n",
            "zbgq3i\n",
            "lyisgp\n",
            "fsihym\n",
            "ld7szg\n",
            "tdkycp\n",
            "pcss42\n",
            "a5jpi0\n",
            "5okzhj\n",
            "ge9swn\n",
            "9n8xyj\n",
            "10mxbuk\n",
            "gs866a\n",
            "7oc89l\n",
            "i54bi0\n",
            "kapxpt\n",
            "5e02fw\n",
            "dur40u\n",
            "ayzlqu\n",
            "8xjayc\n",
            "lickry\n",
            "l3f00f\n",
            "349uat\n",
            "jtfk2z\n",
            "w30e2l\n",
            "8g8j52\n",
            "xyy962\n",
            "11g89oq\n",
            "6nn8w9\n",
            "6i06gw\n",
            "l62dni\n",
            "oxo6dv\n",
            "1kvn9n\n",
            "125gvbb\n",
            "mgn59p\n",
            "hyrmfq\n",
            "6li0nx\n",
            "rpw214\n",
            "aphqbe\n",
            "qa5io3\n",
            "10gy65e\n",
            "qmpgla\n",
            "jx1zcx\n",
            "fzsn7v\n",
            "ygnko2\n",
            "lz94f9\n",
            "lipmb0\n",
            "128lom1\n",
            "y5q7rj\n",
            "t4en6z\n",
            "quf53x\n",
            "q13wxl\n",
            "fhgeja\n",
            "43r36x\n",
            "5ffp9j\n",
            "56xvo1\n",
            "xlvip2\n",
            "7gqa7n\n",
            "lfd05u\n",
            "y06hak\n",
            "st8p5c\n",
            "m0n5x6\n",
            "7aco1w\n",
            "p0d1q9\n",
            "2h1mlt\n",
            "xawr59\n",
            "oawp1a\n",
            "zocw5k\n",
            "yopjb9\n",
            "h0whaw\n",
            "e9830y\n",
            "agf5c8\n",
            "idd42y\n",
            "ooqyor\n"
          ]
        }
      ]
    },
    {
      "cell_type": "code",
      "source": [],
      "metadata": {
        "id": "N78Jkg4UP_Fe"
      },
      "execution_count": null,
      "outputs": []
    }
  ]
}